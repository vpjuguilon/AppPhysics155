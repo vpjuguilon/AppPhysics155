{
 "cells": [
  {
   "cell_type": "markdown",
   "metadata": {},
   "source": [
    "Problem 4.3"
   ]
  },
  {
   "cell_type": "markdown",
   "metadata": {},
   "source": [
    "[1] $$p(x) = \\frac{w(x)}{\\int_{a}^{b} w(x)dx}$$\n",
    "[2] $$p(x) = \\frac{x^{-1/2}}{\\int_{0}^{1}x^{-1/2} dx}$$\n",
    "[3] $$p(x) = \\frac{x^{-1/2}}{2} = \\frac{1}{2\\sqrt{x}}$$"
   ]
  },
  {
   "cell_type": "markdown",
   "metadata": {},
   "source": [
    "[4] $$\\int_{0}^{x(z)}\\frac{1}{2\\sqrt{x}} dx = z$$\n",
    "[5] $$x(z)^{1/2} = z$$\n",
    "[6] $$x(z) = z^2$$"
   ]
  },
  {
   "cell_type": "code",
   "execution_count": null,
   "metadata": {},
   "outputs": [],
   "source": [
    "from numpy import exp\n",
    "from random import random"
   ]
  },
  {
   "cell_type": "code",
   "execution_count": null,
   "metadata": {},
   "outputs": [],
   "source": [
    "def f(x):\n",
    "    return (x**(-1/2)) / (exp(x) + 1)\n",
    "\n",
    "def w(x):\n",
    "    return x**(-1/2)"
   ]
  },
  {
   "cell_type": "code",
   "execution_count": null,
   "metadata": {},
   "outputs": [],
   "source": [
    "N = 1000000\n",
    "summ = 0\n",
    "\n",
    "for counter in range(N):\n",
    "    xi = (random())**2   #Nonuniform random number generator\n",
    "    summ += 2*f(xi)/w(xi)\n",
    "\n",
    "print('I = ', summ/N)"
   ]
  },
  {
   "cell_type": "code",
   "execution_count": null,
   "metadata": {},
   "outputs": [],
   "source": []
  }
 ],
 "metadata": {
  "kernelspec": {
   "display_name": "Python 3",
   "language": "python",
   "name": "python3"
  },
  "language_info": {
   "codemirror_mode": {
    "name": "ipython",
    "version": 3
   },
   "file_extension": ".py",
   "mimetype": "text/x-python",
   "name": "python",
   "nbconvert_exporter": "python",
   "pygments_lexer": "ipython3",
   "version": "3.6.3"
  }
 },
 "nbformat": 4,
 "nbformat_minor": 2
}
