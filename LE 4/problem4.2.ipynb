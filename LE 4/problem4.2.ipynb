{
 "cells": [
  {
   "cell_type": "markdown",
   "metadata": {},
   "source": [
    "Problem 4.2: Brownian motion"
   ]
  },
  {
   "cell_type": "code",
   "execution_count": null,
   "metadata": {},
   "outputs": [],
   "source": [
    "from vpython import rate, sphere, vec\n",
    "from random import random"
   ]
  },
  {
   "cell_type": "code",
   "execution_count": null,
   "metadata": {},
   "outputs": [],
   "source": [
    "\n",
    "i, j = 0, 0  # Initial\n",
    "s = sphere(pos = vec(i, j, 0), radius = 0.5)\n",
    "\n",
    "for counter in range(10000000):\n",
    "    rate(70)\n",
    "    s.pos =  vec(i, j, 0)\n",
    "    z = random()\n",
    "    if z < 0.25:            # Left\n",
    "        if i == -50: # Check if boundary\n",
    "            i = -50\n",
    "        else:\n",
    "            i -= 1\n",
    "    elif 0.25 < z < 0.5:    # Right\n",
    "        if i == 50: # Check if boundary\n",
    "            i = 50\n",
    "        else:\n",
    "            i += 1\n",
    "    elif 0.5 < z < 0.75:    # Down\n",
    "        if j == -50: # Check if boundary\n",
    "            j = -50\n",
    "        else:\n",
    "            j -= 1\n",
    "    elif 0.75 < z < 1:      # Up\n",
    "        if j == 50:  # Check if boundary\n",
    "            j = 50\n",
    "        else:\n",
    "            j += 1\n",
    "\n",
    "\n"
   ]
  },
  {
   "cell_type": "code",
   "execution_count": null,
   "metadata": {},
   "outputs": [],
   "source": []
  }
 ],
 "metadata": {
  "kernelspec": {
   "display_name": "Python 3",
   "language": "python",
   "name": "python3"
  },
  "language_info": {
   "codemirror_mode": {
    "name": "ipython",
    "version": 3
   },
   "file_extension": ".py",
   "mimetype": "text/x-python",
   "name": "python",
   "nbconvert_exporter": "python",
   "pygments_lexer": "ipython3",
   "version": "3.6.3"
  }
 },
 "nbformat": 4,
 "nbformat_minor": 2
}
