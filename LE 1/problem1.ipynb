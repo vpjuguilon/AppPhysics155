{
 "cells": [
  {
   "cell_type": "markdown",
   "metadata": {},
   "source": [
    "PROBLEM 1.1: Quantum Potential Step"
   ]
  },
  {
   "cell_type": "code",
   "execution_count": null,
   "metadata": {},
   "outputs": [],
   "source": [
    "from numpy import sqrt\n",
    "\n",
    "hbar = 1.0545718e-34\n",
    "me = 9.11e-31\n",
    "E = float(input(\"Enter particle energy in eV: \")) * 1.60217662e-19\n",
    "V = float(input(\"Enter potential step in eV: \")) * 1.60217662e-19\n",
    "k1 = sqrt(2*me*E)/hbar\n",
    "k2 = sqrt(2*me*(E-V))/hbar\n",
    "\n",
    "T = 4*k1*k2 / (k1+k2)**2\n",
    "R = ((k1-k2)/(k1+k2))**2\n",
    "\n",
    "print(\"Transmission is\", T, \"and Reflections is\", R)\n",
    "print(\"Check: Total probability is:\", T+R)\n"
   ]
  },
  {
   "cell_type": "code",
   "execution_count": null,
   "metadata": {},
   "outputs": [],
   "source": []
  }
 ],
 "metadata": {
  "kernelspec": {
   "display_name": "Python 3",
   "language": "python",
   "name": "python3"
  },
  "language_info": {
   "codemirror_mode": {
    "name": "ipython",
    "version": 3
   },
   "file_extension": ".py",
   "mimetype": "text/x-python",
   "name": "python",
   "nbconvert_exporter": "python",
   "pygments_lexer": "ipython3",
   "version": "3.6.3"
  }
 },
 "nbformat": 4,
 "nbformat_minor": 2
}
