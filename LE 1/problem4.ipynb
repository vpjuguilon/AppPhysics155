{
 "cells": [
  {
   "cell_type": "markdown",
   "metadata": {},
   "source": [
    "Problem 1.4: Mandelbrot set"
   ]
  },
  {
   "cell_type": "code",
   "execution_count": null,
   "metadata": {},
   "outputs": [],
   "source": [
    "import matplotlib.pyplot as plt\n",
    "from numpy import linspace, zeros, log\n",
    "\n",
    "xlist = list(linspace(-2, 2, 1000))\n",
    "ylist = list(linspace(2, -2, 1000))\n",
    "arrayplot = zeros((1000, 1000))      #Create a 1000x1000 grid\n",
    "i = 0\n",
    "j = 0\n",
    "\n",
    "for y in ylist:\n",
    "    i = 0\n",
    "    for x in xlist:\n",
    "        z = 0\n",
    "        c = complex(x, y)\n",
    "        n = 0\n",
    "\n",
    "        while abs(z) < 2:   #Check for number of iterations before |z| > 2 or if max iterations (11)\n",
    "            z = z**2 + c\n",
    "            n += 1\n",
    "            if n == 11:     #If max iterations, break loop; Part of mandelbrot set\n",
    "                break\n",
    "\n",
    "            arrayplot[j, i] = n  #Set value of array depending on number or log of the iterations\n",
    "        i += 1\n",
    "    j += 1\n",
    "\n",
    "\n",
    "plt.imshow(arrayplot)\n",
    "plt.jet()\n",
    "plt.show()"
   ]
  }
 ],
 "metadata": {
  "kernelspec": {
   "display_name": "Python 3",
   "language": "python",
   "name": "python3"
  },
  "language_info": {
   "codemirror_mode": {
    "name": "ipython",
    "version": 3
   },
   "file_extension": ".py",
   "mimetype": "text/x-python",
   "name": "python",
   "nbconvert_exporter": "python",
   "pygments_lexer": "ipython3",
   "version": "3.6.3"
  }
 },
 "nbformat": 4,
 "nbformat_minor": 2
}
