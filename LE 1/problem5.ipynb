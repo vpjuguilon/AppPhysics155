{
 "cells": [
  {
   "cell_type": "markdown",
   "metadata": {},
   "source": [
    "Problem 1.5: Quadratic Equation"
   ]
  },
  {
   "cell_type": "code",
   "execution_count": null,
   "metadata": {},
   "outputs": [],
   "source": [
    "import numpy as np\n",
    "\n",
    "a = float(input(\"a: \"))\n",
    "b = float(input(\"b: \"))\n",
    "c = float(input(\"c: \"))\n",
    "\n",
    "x1a = (-b + np.sqrt(b**2 - 4*a*c)) / (2*a)\n",
    "x2a = (-b - np.sqrt(b**2 - 4*a*c)) / (2*a)\n",
    "solution1a = a*x1a**2 + b*x1a + c\n",
    "solution2a = a*x2a**2 + b*x2a + c\n",
    "print()\n",
    "print(\"Method 1\")\n",
    "print(\"Root 1 is\", x1a)\n",
    "print(\"Accuracy rating of root 1 is\", solution1a)\n",
    "print(\"Root 2 is\", x2a)\n",
    "print(\"Accuracy rating of root 2 is\", solution2a)\n",
    "print()\n",
    "x1b = 2*c / (-b - np.sqrt(b**2 - 4*a*c))\n",
    "x2b = 2*c / (-b + np.sqrt(b**2 - 4*a*c))\n",
    "solution1b = a*x1b**2 + b*x1b + c\n",
    "solution2b = a*x2b**2 + b*x2b + c\n",
    "print(\"Method 2\")\n",
    "print(\"Root 1 is\", x1b)\n",
    "print(\"Accuracy rating of root 1 is\", solution1b)\n",
    "print(\"Root 2 is\", x2b)\n",
    "print(\"Accuracy rating of root 2 is\", solution2b)\n",
    "\n",
    "if abs(solution1a) < abs(solution1b):\n",
    "    root1 = x1a\n",
    "elif abs(solution1b) <= abs(solution1a):\n",
    "    root1 = x1b\n",
    "\n",
    "if abs(solution2a) < abs(solution2b):\n",
    "    root2 = x2a\n",
    "elif abs(solution1b) <= abs(solution1a):\n",
    "    root2 = x2b\n",
    "\n",
    "print()\n",
    "print(\"Lower accuracy rating = more accurate\")\n",
    "print(\"The roots are\", root1, \"and\", root2)\n",
    "\n"
   ]
  },
  {
   "cell_type": "markdown",
   "metadata": {},
   "source": [
    "[1] $$\\frac{-b \\pm \\sqrt{b^2 - 4ac}}{2a}$$\n",
    "\n",
    "[2] $$\\frac{2c}{-b \\mp \\sqrt{b^2 - 4ac}}$$\n",
    "\n",
    "[3] $$0.001x^2 + 3000x + 0.003 = 0$$"
   ]
  },
  {
   "cell_type": "markdown",
   "metadata": {},
   "source": [
    "For the first root using Equation [1] and second root using Equation [2], the program will have a relative larger error compared to the other root since 4ac is a small value, and will return a very small root (close to zero) (-b + b). This is not the case for the other root since the program will return 2b (-b-b)"
   ]
  }
 ],
 "metadata": {
  "kernelspec": {
   "display_name": "Python 3",
   "language": "python",
   "name": "python3"
  },
  "language_info": {
   "codemirror_mode": {
    "name": "ipython",
    "version": 3
   },
   "file_extension": ".py",
   "mimetype": "text/x-python",
   "name": "python",
   "nbconvert_exporter": "python",
   "pygments_lexer": "ipython3",
   "version": "3.6.3"
  }
 },
 "nbformat": 4,
 "nbformat_minor": 2
}
