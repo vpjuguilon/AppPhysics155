{
 "cells": [
  {
   "cell_type": "markdown",
   "metadata": {},
   "source": [
    "Problem 1.2: The Madelung Constant"
   ]
  },
  {
   "cell_type": "code",
   "execution_count": null,
   "metadata": {},
   "outputs": [],
   "source": [
    "import numpy as np\n",
    "\n",
    "L = int(input(\"Enter L: \"))\n",
    "madelung = 0\n",
    "\n",
    "for i in range(-L, L+1):\n",
    "    for j in range(-L, L+1):\n",
    "        for k in range(-L, L+1):\n",
    "            if i == 0 and j == 0 and k == 0:\n",
    "                continue\n",
    "            else:\n",
    "                madelung += ((-1)**(i+j+k))/np.sqrt(i**2 + j**2 + k**2)\n",
    "\n",
    "print(\"The madelung constant for NaCl is\", madelung)\n"
   ]
  },
  {
   "cell_type": "markdown",
   "metadata": {},
   "source": [
    "Enter large values for L (i.e. L = 100). \n",
    "Higher L = higher accuracy, lower speed"
   ]
  }
 ],
 "metadata": {
  "kernelspec": {
   "display_name": "Python 3",
   "language": "python",
   "name": "python3"
  },
  "language_info": {
   "codemirror_mode": {
    "name": "ipython",
    "version": 3
   },
   "file_extension": ".py",
   "mimetype": "text/x-python",
   "name": "python",
   "nbconvert_exporter": "python",
   "pygments_lexer": "ipython3",
   "version": "3.6.3"
  }
 },
 "nbformat": 4,
 "nbformat_minor": 2
}
