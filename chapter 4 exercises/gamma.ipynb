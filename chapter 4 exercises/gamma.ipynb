{
 "cells": [
  {
   "cell_type": "markdown",
   "metadata": {},
   "source": [
    "Gamma Function"
   ]
  },
  {
   "cell_type": "markdown",
   "metadata": {},
   "source": [
    "1.)"
   ]
  },
  {
   "cell_type": "code",
   "execution_count": null,
   "metadata": {},
   "outputs": [],
   "source": [
    "import numpy as np\n",
    "import matplotlib.pyplot as plt\n",
    "\n",
    "\n",
    "def testgamma(z):\n",
    "    value = 1\n",
    "    for n in range(1, 1000000):\n",
    "        value *= (1 + (z/n))*np.exp(-z / n)\n",
    "    return 1 / (z*np.exp(np.euler_gamma*z)*value)\n",
    "\n"
   ]
  },
  {
   "cell_type": "markdown",
   "metadata": {},
   "source": [
    "2.)"
   ]
  },
  {
   "cell_type": "code",
   "execution_count": null,
   "metadata": {},
   "outputs": [],
   "source": [
    "x = np.linspace(-4, 5, 100)\n",
    "y = testgamma(x)\n",
    "\n",
    "\n",
    "fig, ax = plt.subplots()\n",
    "ax.plot(list(x), list(y), 'k-')\n",
    "plt.ylim(ymin=-6, ymax=6)\n",
    "plt.xlim(xmin=-6, xmax=6)\n",
    "ax.set_aspect('equal')\n",
    "ax.grid(True, which='both')\n",
    "ax.spines['left'].set_position('zero')\n",
    "ax.spines['bottom'].set_position('zero')\n",
    "plt.show()"
   ]
  },
  {
   "cell_type": "markdown",
   "metadata": {},
   "source": [
    "3.)"
   ]
  },
  {
   "cell_type": "code",
   "execution_count": null,
   "metadata": {},
   "outputs": [],
   "source": [
    "def factorial(number):\n",
    "    i = number - 1\n",
    "    while i > 1:\n",
    "        number *= i\n",
    "        i += -1\n",
    "    return number\n",
    "\n",
    "\n",
    "integx = np.array(np.arange(1, 10, 1))\n",
    "gammay = testgamma(integx+1)\n",
    "facty_list = []\n",
    "\n",
    "for j in integx:\n",
    "    facty_list.append(factorial(j))\n",
    "\n",
    "facty = np.array(facty_list)\n",
    "print(facty)\n",
    "print(gammay)\n",
    "\n",
    "plt.plot(integx, gammay, 'k-')      #Plot of gamma test function (black)\n",
    "plt.plot(integx, facty, 'r-')       #Plot of factorial function  (red)\n",
    "plt.show()\n",
    "\n",
    "difference = abs(facty - gammay)\n",
    "plt.plot(integx, difference, 'b-')  #Plot of difference between gamma test and factorial   (blue)\n",
    "plt.show()"
   ]
  },
  {
   "cell_type": "markdown",
   "metadata": {},
   "source": [
    "4.)"
   ]
  },
  {
   "cell_type": "code",
   "execution_count": null,
   "metadata": {},
   "outputs": [],
   "source": [
    "from math import gamma\n",
    "\n",
    "integx = np.array(np.arange(1, 10, 1))\n",
    "gammay1 = testgamma(integx+1)\n",
    "gammay2_list = []\n",
    "\n",
    "for k in integx:\n",
    "    gammay2_list.append(gamma(k+1))\n",
    "    \n",
    "gammay2 = np.array(gammay2_list)\n",
    "\n",
    "print(gammay2)\n",
    "print(gammay1)\n",
    "\n",
    "plt.plot(integx, gammay1, 'k-')      #Plot of gamma test function   (black)\n",
    "plt.plot(integx, gammay2, 'r-')      #Plot of math.gamma function   (red)\n",
    "plt.show()\n",
    "\n",
    "difference = abs(gammay2 - gammay1)\n",
    "plt.plot(integx, difference, 'b-')   #Plot of the difference between gamma test and math.gamma   (blue)\n",
    "plt.show()\n"
   ]
  },
  {
   "cell_type": "code",
   "execution_count": null,
   "metadata": {},
   "outputs": [],
   "source": []
  }
 ],
 "metadata": {
  "kernelspec": {
   "display_name": "Python 3",
   "language": "python",
   "name": "python3"
  },
  "language_info": {
   "codemirror_mode": {
    "name": "ipython",
    "version": 3
   },
   "file_extension": ".py",
   "mimetype": "text/x-python",
   "name": "python",
   "nbconvert_exporter": "python",
   "pygments_lexer": "ipython3",
   "version": "3.6.3"
  }
 },
 "nbformat": 4,
 "nbformat_minor": 2
}
