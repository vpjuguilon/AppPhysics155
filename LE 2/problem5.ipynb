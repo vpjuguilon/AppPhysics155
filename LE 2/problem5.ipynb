{
 "cells": [
  {
   "cell_type": "markdown",
   "metadata": {},
   "source": [
    "Problem 2.5: Image deconvolution"
   ]
  },
  {
   "cell_type": "code",
   "execution_count": null,
   "metadata": {},
   "outputs": [],
   "source": [
    "from numpy import loadtxt, zeros, shape, exp\n",
    "from numpy.fft import rfft2, irfft2\n",
    "from matplotlib.pyplot import imshow, gray, show"
   ]
  },
  {
   "cell_type": "markdown",
   "metadata": {},
   "source": [
    "a)"
   ]
  },
  {
   "cell_type": "code",
   "execution_count": null,
   "metadata": {},
   "outputs": [],
   "source": [
    "blur = loadtxt(\"blur.txt\", float)\n",
    "imshow(blur)\n",
    "gray()\n",
    "show()"
   ]
  },
  {
   "cell_type": "markdown",
   "metadata": {},
   "source": [
    "b)"
   ]
  },
  {
   "cell_type": "code",
   "execution_count": null,
   "metadata": {},
   "outputs": [],
   "source": [
    "pointspread = zeros(shape(blur))\n",
    "sigma = 25\n",
    "for x in range(-512, 512):\n",
    "    for y in range(-512, 512):\n",
    "        pointspread[x, y] = exp(-(x ** 2 + y ** 2) / (2 * sigma ** 2))\n",
    "\n",
    "imshow(pointspread)\n",
    "gray()\n",
    "show()"
   ]
  },
  {
   "cell_type": "markdown",
   "metadata": {},
   "source": [
    "c)"
   ]
  },
  {
   "cell_type": "code",
   "execution_count": null,
   "metadata": {},
   "outputs": [],
   "source": [
    "cblur = rfft2(blur)\n",
    "cpoint = rfft2(pointspread)\n",
    "ca = zeros(shape(cblur))\n",
    "eps = 1e-3\n",
    "\n",
    "for y in range(0, 1024):\n",
    "    for x in range(0, 513):\n",
    "        if cpoint[y, x] < eps:\n",
    "            ca[y, x] = 0\n",
    "        else:\n",
    "            ca[y, x] = cblur[y, x] / cpoint[y, x]\n",
    "\n",
    "a = irfft2(ca)\n",
    "imshow(a)\n",
    "gray()\n",
    "show()\n"
   ]
  },
  {
   "cell_type": "markdown",
   "metadata": {},
   "source": [
    "Some points in the fourier transform were removed if the point in the spread function are zero (cannot divide by zero). As such, the image cannot be completely deblurred."
   ]
  },
  {
   "cell_type": "code",
   "execution_count": null,
   "metadata": {},
   "outputs": [],
   "source": []
  }
 ],
 "metadata": {
  "kernelspec": {
   "display_name": "Python 3",
   "language": "python",
   "name": "python3"
  },
  "language_info": {
   "codemirror_mode": {
    "name": "ipython",
    "version": 3
   },
   "file_extension": ".py",
   "mimetype": "text/x-python",
   "name": "python",
   "nbconvert_exporter": "python",
   "pygments_lexer": "ipython3",
   "version": "3.6.3"
  }
 },
 "nbformat": 4,
 "nbformat_minor": 2
}
