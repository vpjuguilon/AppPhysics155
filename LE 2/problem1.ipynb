{
 "cells": [
  {
   "cell_type": "markdown",
   "metadata": {
    "collapsed": true
   },
   "source": [
    "Problem 2.1: Quantum uncertainty in harmonic oscillator"
   ]
  },
  {
   "cell_type": "code",
   "execution_count": null,
   "metadata": {},
   "outputs": [],
   "source": [
    "from math import factorial\n",
    "from numpy import linspace, zeros, sqrt, pi, exp, array\n",
    "from matplotlib.pyplot import plot, show, xlabel, ylabel, legend, axhline, axvline"
   ]
  },
  {
   "cell_type": "markdown",
   "metadata": {},
   "source": [
    "Functions (Gaussian Quadrature, Hermitian, Wave function)"
   ]
  },
  {
   "cell_type": "code",
   "execution_count": null,
   "metadata": {},
   "outputs": [],
   "source": [
    "######################################################################\n",
    "#\n",
    "# Functions to calculate integration points and weights for Gaussian\n",
    "# quadrature\n",
    "#\n",
    "# x,w = gaussxw(N) returns integration points x and integration\n",
    "#           weights w such that sum_i w[i]*f(x[i]) is the Nth-order\n",
    "#           Gaussian approximation to the integral int_{-1}^1 f(x) dx\n",
    "# x,w = gaussxwab(N,a,b) returns integration points and weights\n",
    "#           mapped to the interval [a,b], so that sum_i w[i]*f(x[i])\n",
    "#           is the Nth-order Gaussian approximation to the integral\n",
    "#           int_a^b f(x) dx\n",
    "#\n",
    "# This code finds the zeros of the nth Legendre polynomial using\n",
    "# Newton's method, starting from the approximation given in Abramowitz\n",
    "# and Stegun 22.16.6.  The Legendre polynomial itself is evaluated\n",
    "# using the recurrence relation given in Abramowitz and Stegun\n",
    "# 22.7.10.  The function has been checked against other sources for\n",
    "# values of N up to 1000.  It is compatible with version 2 and version\n",
    "# 3 of Python.\n",
    "#\n",
    "# Written by Mark Newman <mejn@umich.edu>, June 4, 2011\n",
    "# You may use, share, or modify this file freely\n",
    "#\n",
    "######################################################################\n",
    "\n",
    "from numpy import ones,copy,cos,tan,pi,linspace\n",
    "\n",
    "def gaussxw(N):\n",
    "\n",
    "    # Initial approximation to roots of the Legendre polynomial\n",
    "    a = linspace(3, 4*N-1, N)/(4*N+2)\n",
    "    x = cos(pi*a+1/(8*N*N*tan(a)))\n",
    "\n",
    "    # Find roots using Newton's method\n",
    "    epsilon = 1e-15\n",
    "    delta = 1.0\n",
    "    while delta>epsilon:\n",
    "        p0 = ones(N,float)\n",
    "        p1 = copy(x)\n",
    "        for k in range(1,N):\n",
    "            p0,p1 = p1,((2*k+1)*x*p1-k*p0)/(k+1)\n",
    "        dp = (N+1)*(p0-x*p1)/(1-x*x)\n",
    "        dx = p1/dp\n",
    "        x -= dx\n",
    "        delta = max(abs(dx))\n",
    "\n",
    "    # Calculate the weights\n",
    "    w = 2*(N+1)*(N+1)/(N*N*(1-x*x)*dp*dp)\n",
    "\n",
    "    return x,w\n",
    "\n",
    "def gaussxwab(N,a,b):\n",
    "    x,w = gaussxw(N)\n",
    "    return 0.5*(b-a)*x+0.5*(b+a),0.5*(b-a)*w\n",
    "\n",
    "\n",
    "\n",
    "\n",
    "\n",
    "\n",
    "# Hermitian function: iteration too long for large n. Create list containing the hermitian polynomials.\n",
    "def H(n, x):\n",
    "    Hermitian = [1, 2*x]\n",
    "    for i in range(2, n+1):\n",
    "        Hermitian.append(2*x*Hermitian[i-1] - 2*(i-1)*Hermitian[i-2]) # Append additional functions accdg to recursion\n",
    "    return Hermitian[n]\n",
    "    \n",
    "# Wave function \n",
    "def fPsi(n, x):\n",
    "    return (exp(-0.5 * x ** 2) * H(n, x)) / (sqrt(2 ** n * factorial(n) * sqrt(pi)))"
   ]
  },
  {
   "cell_type": "markdown",
   "metadata": {},
   "source": [
    "a)"
   ]
  },
  {
   "cell_type": "code",
   "execution_count": null,
   "metadata": {},
   "outputs": [],
   "source": [
    "X = linspace(-4, 4, 1000)\n",
    "Psi = zeros((4, 1000), float) # Rows correspond to n = 0, 1, 2, 3\n",
    "for n in range(0, 4):\n",
    "    for x in range(len(X)):\n",
    "        Psi[n, x] = fPsi(n, X[x])\n",
    "\n",
    "plot(X, Psi[0,:], 'k-', label = 'n = 0')\n",
    "plot(X, Psi[1,:], 'r-', label = 'n = 1')\n",
    "plot(X, Psi[2,:], 'g-', label = 'n = 2')\n",
    "plot(X, Psi[3,:], 'b-', label = 'n = 3')\n",
    "legend()\n",
    "xlabel('x')\n",
    "ylabel(r'$\\psi (x)$')\n",
    "axhline(y=0, color='k', linewidth=1)\n",
    "axvline(x=0, color='k', linewidth=1)\n",
    "show()"
   ]
  },
  {
   "cell_type": "markdown",
   "metadata": {},
   "source": [
    "b)"
   ]
  },
  {
   "cell_type": "code",
   "execution_count": null,
   "metadata": {},
   "outputs": [],
   "source": [
    "Xb = linspace(-10, 10, 1000)\n",
    "Yb = []\n",
    "for counterb in Xb:\n",
    "    Yb.append(H(30, counterb))\n",
    "\n",
    "plot(Xb, Yb, 'k-', label = 'n = 30')\n",
    "legend()\n",
    "xlabel('x')\n",
    "ylabel(r'$\\psi (x)$')\n",
    "axhline(y=0, color='k', linewidth=1)\n",
    "axvline(x=0, color='k', linewidth=1)\n",
    "show() # For large n, quantum -> classical. Plot is reasonable since high probabily in endpoints for classical\n"
   ]
  },
  {
   "cell_type": "markdown",
   "metadata": {},
   "source": [
    "c)"
   ]
  },
  {
   "cell_type": "code",
   "execution_count": null,
   "metadata": {},
   "outputs": [],
   "source": [
    "def integrand(x):\n",
    "    return (x**2) * abs(fPsi(5, x))**2\n",
    "\n",
    "x, w = gaussxwab(100, 0, 100) # Integrate from 0 to 100 and multiply by 2 since integrand is even function\n",
    "s = 0.0\n",
    "for k in range(100):\n",
    "    s += w[k]*integrand(x[k])\n",
    "    \n",
    "xaxis = linspace(-1000, 1000, 1000)\n",
    "yaxis = []\n",
    "for counter in xaxis:\n",
    "    yaxis.append(integrand(counter))\n",
    "plot(xaxis, yaxis,'k-')\n",
    "xlabel('x')\n",
    "ylabel('integrand(x)')\n",
    "show() # Reasonable for gaussian integration to run from -100 to 100 according to plot\n",
    "\n",
    "print('Uncertainty for n = 5 is', sqrt(2*s))"
   ]
  },
  {
   "cell_type": "code",
   "execution_count": null,
   "metadata": {},
   "outputs": [],
   "source": []
  }
 ],
 "metadata": {
  "kernelspec": {
   "display_name": "Python 3",
   "language": "python",
   "name": "python3"
  },
  "language_info": {
   "codemirror_mode": {
    "name": "ipython",
    "version": 3
   },
   "file_extension": ".py",
   "mimetype": "text/x-python",
   "name": "python",
   "nbconvert_exporter": "python",
   "pygments_lexer": "ipython3",
   "version": "3.6.3"
  }
 },
 "nbformat": 4,
 "nbformat_minor": 1
}
