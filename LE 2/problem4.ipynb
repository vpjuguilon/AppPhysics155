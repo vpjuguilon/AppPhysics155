{
 "cells": [
  {
   "cell_type": "markdown",
   "metadata": {},
   "source": [
    "Problem 2.4: Fourier filtering"
   ]
  },
  {
   "cell_type": "code",
   "execution_count": null,
   "metadata": {},
   "outputs": [],
   "source": [
    "from numpy import linspace\n",
    "from numpy.fft import rfft, irfft\n",
    "from matplotlib.pyplot import plot, show, xlabel, ylabel"
   ]
  },
  {
   "cell_type": "code",
   "execution_count": null,
   "metadata": {},
   "outputs": [],
   "source": [
    "def square(t):\n",
    "    output = []\n",
    "    for i in t:\n",
    "        if int(i*2) % 2 == 0:\n",
    "            output.append(1)\n",
    "        else:\n",
    "            output.append(-1)\n",
    "    return output"
   ]
  },
  {
   "cell_type": "code",
   "execution_count": null,
   "metadata": {},
   "outputs": [],
   "source": [
    "t = linspace(0, 1, 1000)\n",
    "y1 = square(t)\n",
    "c = rfft(y1)\n",
    "for j in range(10, len(c)):\n",
    "    c[j] = 0\n",
    "y2 = irfft(c)\n",
    "plot(y1, 'k-')\n",
    "plot(y2, 'r-')\n",
    "xlabel('x')\n",
    "ylabel('f(x)')\n",
    "show()"
   ]
  },
  {
   "cell_type": "markdown",
   "metadata": {},
   "source": [
    "The wiggles arise since only low frequency terms are considered in fourier transform, which results in a low pass filter and smoothens the signal."
   ]
  },
  {
   "cell_type": "code",
   "execution_count": null,
   "metadata": {},
   "outputs": [],
   "source": []
  }
 ],
 "metadata": {
  "kernelspec": {
   "display_name": "Python 3",
   "language": "python",
   "name": "python3"
  },
  "language_info": {
   "codemirror_mode": {
    "name": "ipython",
    "version": 3
   },
   "file_extension": ".py",
   "mimetype": "text/x-python",
   "name": "python",
   "nbconvert_exporter": "python",
   "pygments_lexer": "ipython3",
   "version": "3.6.3"
  }
 },
 "nbformat": 4,
 "nbformat_minor": 2
}
