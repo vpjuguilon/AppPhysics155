{
 "cells": [
  {
   "cell_type": "markdown",
   "metadata": {},
   "source": [
    "Problem 2: The gamma function"
   ]
  },
  {
   "cell_type": "code",
   "execution_count": null,
   "metadata": {},
   "outputs": [],
   "source": [
    "from numpy import exp, linspace, zeros, log\n",
    "from matplotlib.pyplot import plot, show, xlabel, ylabel, legend, axhline, axvline"
   ]
  },
  {
   "cell_type": "code",
   "execution_count": null,
   "metadata": {},
   "outputs": [],
   "source": [
    "def integrand(a, x):\n",
    "    return (x**(a-1))*exp(-x)\n",
    "\n",
    "######################################################################\n",
    "#\n",
    "# Functions to calculate integration points and weights for Gaussian\n",
    "# quadrature\n",
    "#\n",
    "# x,w = gaussxw(N) returns integration points x and integration\n",
    "#           weights w such that sum_i w[i]*f(x[i]) is the Nth-order\n",
    "#           Gaussian approximation to the integral int_{-1}^1 f(x) dx\n",
    "# x,w = gaussxwab(N,a,b) returns integration points and weights\n",
    "#           mapped to the interval [a,b], so that sum_i w[i]*f(x[i])\n",
    "#           is the Nth-order Gaussian approximation to the integral\n",
    "#           int_a^b f(x) dx\n",
    "#\n",
    "# This code finds the zeros of the nth Legendre polynomial using\n",
    "# Newton's method, starting from the approximation given in Abramowitz\n",
    "# and Stegun 22.16.6.  The Legendre polynomial itself is evaluated\n",
    "# using the recurrence relation given in Abramowitz and Stegun\n",
    "# 22.7.10.  The function has been checked against other sources for\n",
    "# values of N up to 1000.  It is compatible with version 2 and version\n",
    "# 3 of Python.\n",
    "#\n",
    "# Written by Mark Newman <mejn@umich.edu>, June 4, 2011\n",
    "# You may use, share, or modify this file freely\n",
    "#\n",
    "######################################################################\n",
    "\n",
    "from numpy import ones,copy,cos,tan,pi,linspace\n",
    "\n",
    "def gaussxw(N):\n",
    "\n",
    "    # Initial approximation to roots of the Legendre polynomial\n",
    "    a = linspace(3, 4*N-1, N)/(4*N+2)\n",
    "    x = cos(pi*a+1/(8*N*N*tan(a)))\n",
    "\n",
    "    # Find roots using Newton's method\n",
    "    epsilon = 1e-15\n",
    "    delta = 1.0\n",
    "    while delta>epsilon:\n",
    "        p0 = ones(N,float)\n",
    "        p1 = copy(x)\n",
    "        for k in range(1,N):\n",
    "            p0,p1 = p1,((2*k+1)*x*p1-k*p0)/(k+1)\n",
    "        dp = (N+1)*(p0-x*p1)/(1-x*x)\n",
    "        dx = p1/dp\n",
    "        x -= dx\n",
    "        delta = max(abs(dx))\n",
    "\n",
    "    # Calculate the weights\n",
    "    w = 2*(N+1)*(N+1)/(N*N*(1-x*x)*dp*dp)\n",
    "\n",
    "    return x,w\n",
    "\n",
    "def gaussxwab(N,a,b):\n",
    "    x,w = gaussxw(N)\n",
    "    return 0.5*(b-a)*x+0.5*(b+a),0.5*(b-a)*w"
   ]
  },
  {
   "cell_type": "code",
   "execution_count": null,
   "metadata": {},
   "outputs": [],
   "source": [
    "X = linspace(0, 5, 1000)\n",
    "F = zeros((3, 1000), float)\n",
    "for n in range(0, 3):\n",
    "    for x in range(len(X)):\n",
    "        F[n, x] = integrand(n+2, X[x])\n",
    "\n",
    "plot(X, F[0,:], 'r-', label = 'a = 2')\n",
    "plot(X, F[1,:], 'g-', label = 'a = 3')\n",
    "plot(X, F[2,:], 'b-', label = 'a = 4')\n",
    "legend()\n",
    "xlabel('x')\n",
    "ylabel('f(x)')\n",
    "axhline(y=0, color='k', linewidth=1)\n",
    "axvline(x=0, color='k', linewidth=1)\n",
    "show()"
   ]
  },
  {
   "cell_type": "markdown",
   "metadata": {},
   "source": [
    "b)\n",
    "\n",
    "[1] $$\\frac{d}{dx} (x^{a-1}e^{-x}) = 0$$\n",
    "[2] $$ (x^{a-1})(-e^{-x}) + (a-1)x^{a-2}(e^{-x}) = 0$$\n",
    "[3] $$ (x^{a-1})(e^{-x}) = (a-1)x^{a-2}(e^{-x}) $$\n",
    "[4] $$ x(x^{a-2}) = (a-1)x^{a-2} $$\n",
    "[5] $$ x = a - 1$$"
   ]
  },
  {
   "cell_type": "markdown",
   "metadata": {},
   "source": [
    "c)\n",
    "\n",
    "[1] $$ z = \\frac{x}{c+x} = \\frac{1}{2} $$\n",
    "[2] $$ c = x = a - 1$$\n",
    "\n",
    "This parameter c will put the peak at z = 1/2.\n",
    "\n",
    "[3] $$\\frac{c+x}{x} = \\frac{1}{z}$$\n",
    "[4] $$\\frac{c}{x} = \\frac{1}{z} - 1 = \\frac{1-z}{z}$$\n",
    "[5] $$ x = \\frac{cz}{1-z} =  \\frac{(a-1)z}{1-z}$$"
   ]
  },
  {
   "cell_type": "markdown",
   "metadata": {},
   "source": [
    "d)\n",
    "\n",
    "[1] $$x^{a-1} = e^{(a-1)ln(x)} $$\n",
    "[2] $$x^{a-1}e^{-x} = e^{(a-1)ln(x) - x} $$\n",
    "\n",
    "The new expression will bypass the production and multiplication of a very large to a very small number (or vice versa)."
   ]
  },
  {
   "cell_type": "markdown",
   "metadata": {},
   "source": [
    "e)"
   ]
  },
  {
   "cell_type": "code",
   "execution_count": null,
   "metadata": {},
   "outputs": [],
   "source": [
    "def integrand2(a, z):\n",
    "    c = a-1\n",
    "    x = c*z / (1-z)\n",
    "    return exp(c*log(x)-x)*((1-z)*c + c*z)/(1-z)**2\n",
    "\n",
    "\n",
    "def gamma(a):\n",
    "    # Gaussian quadrature\n",
    "    x, w = gaussxwab(50, 0, 1) \n",
    "    s = 0.0\n",
    "    for k in range(50):\n",
    "        s += w[k]*integrand2(a, x[k])\n",
    "    return s\n",
    "\n",
    "print(gamma(3/2))      "
   ]
  },
  {
   "cell_type": "markdown",
   "metadata": {},
   "source": [
    "f)"
   ]
  },
  {
   "cell_type": "code",
   "execution_count": null,
   "metadata": {},
   "outputs": [],
   "source": [
    "print('Gamma(3) =', gamma(3))\n",
    "print('Gamma(6) =', gamma(6))\n",
    "print('Gamma(10) =', gamma(10))"
   ]
  },
  {
   "cell_type": "code",
   "execution_count": null,
   "metadata": {},
   "outputs": [],
   "source": []
  }
 ],
 "metadata": {
  "kernelspec": {
   "display_name": "Python 3",
   "language": "python",
   "name": "python3"
  },
  "language_info": {
   "codemirror_mode": {
    "name": "ipython",
    "version": 3
   },
   "file_extension": ".py",
   "mimetype": "text/x-python",
   "name": "python",
   "nbconvert_exporter": "python",
   "pygments_lexer": "ipython3",
   "version": "3.6.3"
  }
 },
 "nbformat": 4,
 "nbformat_minor": 2
}
