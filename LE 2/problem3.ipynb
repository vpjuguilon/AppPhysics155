{
 "cells": [
  {
   "cell_type": "markdown",
   "metadata": {},
   "source": [
    "Problem 3: Nonlinear circuits"
   ]
  },
  {
   "cell_type": "markdown",
   "metadata": {},
   "source": [
    "[1] $$ \\frac{V_1 - V_+}{R_1} + \\frac{V_1}{R_2} + I_0[e^{(V_1 - V_2)/V_T} -1] = 0$$\n",
    "[2] $$ \\frac{V_2 - V_+}{R_3} + \\frac{V_2}{R_4} - I_0[e^{(V_1 - V_2)/V_T} -1] = 0$$"
   ]
  },
  {
   "cell_type": "code",
   "execution_count": null,
   "metadata": {},
   "outputs": [],
   "source": [
    "from numpy import zeros, exp, array\n",
    "from numpy.linalg import solve"
   ]
  },
  {
   "cell_type": "code",
   "execution_count": null,
   "metadata": {},
   "outputs": [],
   "source": [
    "# Let x1 = V1, x2 = V2\n",
    "def f(x1, x2, i):  # Assume i = N = 2: 2 variables and 2 equations\n",
    "    # Matrix containing the 2 functions\n",
    "    matrix1 = [(x1-5)/1000 + x1/4000 + 3e-9*(exp((x1-x2)/0.05)-1), (5-x2)/3000 - x2/2000 + 3e-9*(exp((x1-x2)/0.05)-1)]\n",
    "    return matrix1[i]"
   ]
  },
  {
   "cell_type": "code",
   "execution_count": null,
   "metadata": {},
   "outputs": [],
   "source": [
    "def derivative(x1, x2, i, j):\n",
    "    # Matrix containing the partial derivatives of the ith function\n",
    "    matrix2 = [[1/1000 + 1/4000 + 3e-9*(exp((x1-x2)/0.05)-1)*(1/0.05), 3e-9*(exp((x1-x2)/0.05)-1)*(-1/0.05)], [3e-9*(exp((x1-x2)/0.05)-1)*(1/0.05), -1/3000 - 1/2000 + 3e-9*(exp((x1-x2)/0.05)-1)*(-1/0.05)]]\n",
    "    return matrix2[i][j]"
   ]
  },
  {
   "cell_type": "code",
   "execution_count": null,
   "metadata": {},
   "outputs": [],
   "source": [
    "N = 2\n",
    "J = zeros((2, 2))\n",
    "fmatrix = zeros((2, 1))\n",
    "x = array([[0], [0]], float)  # Initial point\n",
    "\n",
    "\n",
    "for counter in range(40):\n",
    "    for i in range(N):\n",
    "        for j in range(N):\n",
    "            J[i, j] = derivative(x[0, 0], x[1, 0], i, j)    # Jacobian: jth partial derivative of ith function\n",
    "    for k in range(N):\n",
    "        fmatrix[k, 0] = f(x[0, 0], x[1, 0], k)              # Define the f(x) vector\n",
    "    delta = solve(J, fmatrix)  # Solve for delta x\n",
    "    x = x - delta  # Define new point\n",
    "print('V1 is ' + str(x[0, 0]) + ' volts and V2 is ' + str(x[1, 0]) + ' volts.' )\n",
    "print('Diode voltage is ' + str(x[0, 0] - x[1, 0]) + ' volts.')"
   ]
  },
  {
   "cell_type": "code",
   "execution_count": null,
   "metadata": {},
   "outputs": [],
   "source": []
  }
 ],
 "metadata": {
  "kernelspec": {
   "display_name": "Python 3",
   "language": "python",
   "name": "python3"
  },
  "language_info": {
   "codemirror_mode": {
    "name": "ipython",
    "version": 3
   },
   "file_extension": ".py",
   "mimetype": "text/x-python",
   "name": "python",
   "nbconvert_exporter": "python",
   "pygments_lexer": "ipython3",
   "version": "3.6.3"
  }
 },
 "nbformat": 4,
 "nbformat_minor": 2
}
