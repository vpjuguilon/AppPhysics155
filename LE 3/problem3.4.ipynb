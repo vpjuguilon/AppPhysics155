{
 "cells": [
  {
   "cell_type": "markdown",
   "metadata": {},
   "source": [
    "Problem 3.4: The Schrodinger equation and the Crank-Nicholson method"
   ]
  },
  {
   "cell_type": "code",
   "execution_count": null,
   "metadata": {},
   "outputs": [],
   "source": [
    "from numpy import empty, zeros\n",
    "from cmath import exp\n",
    "from matplotlib.pyplot import plot, show, legend, xlim, ylim\n",
    "from scipy.constants import hbar\n",
    "from numpy.linalg import solve\n",
    "#from vpython import sphere, vector, rate                                      animation not working"
   ]
  },
  {
   "cell_type": "code",
   "execution_count": null,
   "metadata": {},
   "outputs": [],
   "source": [
    "N = 1000\n",
    "me = 9.109e-31\n",
    "L = 1e-8\n",
    "a = L/N\n",
    "psi = zeros([N, 1], float)\n",
    "kappa = 5e10\n",
    "sigma = 1e-10\n",
    "x0 = L/2\n",
    "h = 1e-18\n",
    "\n",
    "for i in range(N):\n",
    "    x = i*a\n",
    "    psi[i, 0] = (exp(-((x - x0)**2)/(2*sigma**2))*exp(complex(0, kappa*x))).real"
   ]
  },
  {
   "cell_type": "code",
   "execution_count": null,
   "metadata": {},
   "outputs": [],
   "source": [
    "b1 = 1 - h*complex(0, hbar)/(2*me*a**2)\n",
    "b2 = h*complex(0, hbar)/(4*me*a**2)\n",
    "v = zeros([N, 1], complex)\n",
    "for k in range(N):\n",
    "    if k == 0:\n",
    "        v[0, 0] = b1*psi[0, 0] + b2*psi[1, 0]\n",
    "    elif k == N-1:\n",
    "        v[N-1, 0] = b1*psi[N-1, 0] + b2*psi[N-2, 0]\n",
    "    else:\n",
    "        v[k, 0] = b1*psi[k, 0] + b2*(psi[k+1, 0] + psi[k-1, 0])"
   ]
  },
  {
   "cell_type": "code",
   "execution_count": null,
   "metadata": {},
   "outputs": [],
   "source": [
    "A = zeros([N, N], complex)\n",
    "for l in range(N):\n",
    "    A[l, l] = 1 + h*complex(0, hbar)/(2*me*a**2)\n",
    "    if l > 0:\n",
    "        A[l, l-1] = -h*complex(0, hbar)/(4*me*a**2)\n",
    "        A[l-1, l] = -h*complex(0, hbar)/(4*me*a**2)"
   ]
  },
  {
   "cell_type": "markdown",
   "metadata": {},
   "source": [
    "Plot 1: time intervals 1-10"
   ]
  },
  {
   "cell_type": "code",
   "execution_count": null,
   "metadata": {},
   "outputs": [],
   "source": [
    "#s = empty(N, sphere)                          animation not working\n",
    "tcounter = 1\n",
    "for counterx in range(10):\n",
    "    #rate(100)                                 animation not working\n",
    "    vnought = solve(A, v)\n",
    "    #for pointcounter in range(N):\n",
    "        #s[pointcounter] = sphere(pos=vector(pointcounter, (vnought[pointcounter]).real, 0), radius=0.2)\n",
    "    v = vnought\n",
    "    plot(vnought.real, label=str(tcounter))\n",
    "    tcounter += 1\n",
    "legend()\n",
    "show()"
   ]
  },
  {
   "cell_type": "markdown",
   "metadata": {},
   "source": [
    "Plot 2: time intervals 11-20"
   ]
  },
  {
   "cell_type": "code",
   "execution_count": null,
   "metadata": {},
   "outputs": [],
   "source": [
    "for counterx in range(10):\n",
    "    vnought = solve(A, v)\n",
    "    v = vnought\n",
    "    plot(vnought.real, label=str(tcounter))\n",
    "    tcounter += 1\n",
    "xlim(465, 485)\n",
    "ylim(-0.04, 0.08)\n",
    "legend()\n",
    "show()"
   ]
  },
  {
   "cell_type": "markdown",
   "metadata": {},
   "source": [
    "Plot 3: time intervals 21-30"
   ]
  },
  {
   "cell_type": "code",
   "execution_count": null,
   "metadata": {},
   "outputs": [],
   "source": [
    "for counterx in range(10):\n",
    "    vnought = solve(A, v)\n",
    "    v = vnought\n",
    "    plot(vnought.real, label=str(tcounter))\n",
    "    tcounter += 1\n",
    "xlim(465, 485)\n",
    "ylim(-0.04, 0.08)\n",
    "legend()\n",
    "show()"
   ]
  },
  {
   "cell_type": "markdown",
   "metadata": {},
   "source": [
    "Plot 4: time intervals 31-40"
   ]
  },
  {
   "cell_type": "code",
   "execution_count": null,
   "metadata": {},
   "outputs": [],
   "source": [
    "for counterx in range(10):\n",
    "    vnought = solve(A, v)\n",
    "    v = vnought\n",
    "    plot(vnought.real, label=str(tcounter))\n",
    "    tcounter += 1\n",
    "xlim(465, 485)\n",
    "ylim(-0.04, 0.08)\n",
    "legend()\n",
    "show()"
   ]
  },
  {
   "cell_type": "markdown",
   "metadata": {},
   "source": [
    "Plot 5: time intervals 41-50"
   ]
  },
  {
   "cell_type": "code",
   "execution_count": null,
   "metadata": {},
   "outputs": [],
   "source": [
    "for counterx in range(10):\n",
    "    vnought = solve(A, v)\n",
    "    v = vnought\n",
    "    plot(vnought.real, label=str(tcounter))\n",
    "    tcounter += 1\n",
    "legend()\n",
    "show()"
   ]
  },
  {
   "cell_type": "markdown",
   "metadata": {},
   "source": [
    "By comparing the first (time intevals 1-10) and last plots (time intervals 41-50), it can be concluded that the wave function is starting to spread from an initially localized state. The amplitudes of peaks are also starting to decrease to compensate for the 'spread'. This can also be observed in the intermediate plots (3rd, 4th and 5th) which were all zoomed in on the same spot."
   ]
  }
 ],
 "metadata": {
  "kernelspec": {
   "display_name": "Python 3",
   "language": "python",
   "name": "python3"
  },
  "language_info": {
   "codemirror_mode": {
    "name": "ipython",
    "version": 3
   },
   "file_extension": ".py",
   "mimetype": "text/x-python",
   "name": "python",
   "nbconvert_exporter": "python",
   "pygments_lexer": "ipython3",
   "version": "3.6.3"
  }
 },
 "nbformat": 4,
 "nbformat_minor": 2
}
